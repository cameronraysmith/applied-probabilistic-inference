{
 "cells": [
  {
   "cell_type": "markdown",
   "id": "6c358b55",
   "metadata": {},
   "source": [
    "# Plotting setup"
   ]
  },
  {
   "cell_type": "code",
   "execution_count": null,
   "id": "c2e84cd2",
   "metadata": {},
   "outputs": [],
   "source": [
    "import matplotlib.pyplot as plt"
   ]
  },
  {
   "cell_type": "markdown",
   "id": "ed9ad05f",
   "metadata": {},
   "source": [
    "## Show available fonts"
   ]
  },
  {
   "cell_type": "code",
   "execution_count": null,
   "id": "c636cef0",
   "metadata": {},
   "outputs": [],
   "source": [
    "# http://jonathansoma.com/lede/data-studio/matplotlib/list-all-fonts-available-in-matplotlib-plus-samples/\n",
    "# List all fonts available in matplotlib plus samples\n",
    "\n",
    "import matplotlib.font_manager\n",
    "from IPython.core.display import HTML\n",
    "\n",
    "def make_html(fontname):\n",
    "    return \"<p>{font}: <span style='font-family:{font}; font-size: 24px;'>{font}</p>\".format(font=fontname)\n",
    "\n",
    "code = \"\\n\".join([make_html(font) for font in sorted(set([f.name for f in matplotlib.font_manager.fontManager.ttflist]))])\n",
    "\n",
    "HTML(\"<div style='column-count: 2;'>{}</div>\".format(code))"
   ]
  },
  {
   "cell_type": "code",
   "execution_count": null,
   "id": "e1b4dca0",
   "metadata": {
    "collapsed": true,
    "jupyter": {
     "outputs_hidden": true
    }
   },
   "outputs": [],
   "source": [
    "# ?matplotlib.font_manager.fontManager.addfont"
   ]
  },
  {
   "cell_type": "markdown",
   "id": "b59471d7",
   "metadata": {},
   "source": [
    "## Add latin modern fonts"
   ]
  },
  {
   "cell_type": "code",
   "execution_count": null,
   "id": "d28522bf",
   "metadata": {},
   "outputs": [],
   "source": [
    "# https://www.archlinux.org/packages/community/any/otf-latin-modern/\n",
    "# !sudo pacman -Syu --needed --noconfirm otf-latin-modern inkscape\n",
    "# !brew cask install font-latin-modern\n",
    "# !apt-get install -y fonts-lmodern\n",
    "# fonts_path_ubuntu = \"/usr/share/texmf/fonts/opentype/public/lm/\"\n",
    "# fonts_path_macos = \"~/Library/Fonts/\"\n",
    "fonts_path_arch = \"/usr/share/fonts/OTF/\"\n",
    "matplotlib.font_manager.fontManager.addfont(fonts_path_arch + \"lmsans10-regular.otf\")\n",
    "matplotlib.font_manager.fontManager.addfont(fonts_path_arch + \"lmroman10-regular.otf\")"
   ]
  },
  {
   "cell_type": "markdown",
   "id": "e4a41d10",
   "metadata": {},
   "source": [
    "## Set matplotlib to use Latin Modern fonts"
   ]
  },
  {
   "cell_type": "code",
   "execution_count": null,
   "id": "7368057b",
   "metadata": {},
   "outputs": [],
   "source": [
    "from IPython.display import set_matplotlib_formats\n",
    "#%matplotlib inline\n",
    "set_matplotlib_formats('svg') # use SVG backend to maintain vectorization\n",
    "plt.style.use('default') #reset default parameters\n",
    "# https://stackoverflow.com/a/3900167/446907\n",
    "plt.rcParams.update({'font.size': 16,\n",
    "                     'font.family': ['sans-serif'],\n",
    "                     'font.serif': ['Latin Modern Roman'] + plt.rcParams['font.serif'],\n",
    "                     'font.sans-serif': ['Latin Modern Sans'] + plt.rcParams['font.sans-serif']})"
   ]
  },
  {
   "cell_type": "markdown",
   "id": "e5c2f9f1",
   "metadata": {},
   "source": [
    "## Check rcParams after update and list fonts available to matplotlib"
   ]
  },
  {
   "cell_type": "code",
   "execution_count": null,
   "id": "86524887",
   "metadata": {},
   "outputs": [],
   "source": [
    "# plt.rcParams.values\n",
    "\n",
    "# code = \"\\n\".join([make_html(font) for font in sorted(set([f.name for f in matplotlib.font_manager.fontManager.ttflist]))])\n",
    "\n",
    "# HTML(\"<div style='column-count: 2;'>{}</div>\".format(code))"
   ]
  },
  {
   "cell_type": "markdown",
   "id": "fc2d28ca",
   "metadata": {},
   "source": [
    "## Create a test plot"
   ]
  },
  {
   "cell_type": "code",
   "execution_count": null,
   "id": "86acdd80",
   "metadata": {},
   "outputs": [],
   "source": [
    "# import numpy as np\n",
    "\n",
    "# t = np.arange(-1.0, 2.0, 0.01)\n",
    "# s = 1 + np.sin(2 * np.pi * t)\n",
    "\n",
    "# fig, ax = plt.subplots()\n",
    "# ax.plot(t, s)\n",
    "\n",
    "# ax.set(xlabel='time (s)', ylabel='voltage (mV)',\n",
    "#        title='About as simple as it gets, folks')\n",
    "# ax.grid()\n",
    "\n",
    "# plt.savefig(\"fig/test-plot.svg\", bbox_inches=\"tight\");\n",
    "# !inkscape fig/test-plot.svg --export-filename=fig/test-plot.pdf;"
   ]
  }
 ],
 "metadata": {
  "celltoolbar": "Slideshow",
  "jupytext": {
   "cell_metadata_json": true,
   "formats": "ipynb,md,py:percent",
   "notebook_metadata_filter": "all"
  },
  "kernelspec": {
   "display_name": "Python 3 (ipykernel)",
   "language": "python",
   "name": "python3"
  },
  "language_info": {
   "codemirror_mode": {
    "name": "ipython",
    "version": 3
   },
   "file_extension": ".py",
   "mimetype": "text/x-python",
   "name": "python",
   "nbconvert_exporter": "python",
   "pygments_lexer": "ipython3",
   "version": "3.9.6"
  },
  "rise": {
   "scroll": true,
   "theme": "black"
  },
  "toc-autonumbering": true,
  "toc-showcode": false,
  "toc-showmarkdowntxt": false
 },
 "nbformat": 4,
 "nbformat_minor": 5
}
