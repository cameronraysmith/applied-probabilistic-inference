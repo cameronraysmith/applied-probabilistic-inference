{
 "cells": [
  {
   "cell_type": "markdown",
   "id": "following-statement",
   "metadata": {},
   "source": [
    "# Introduction to generative models and variational inference"
   ]
  },
  {
   "cell_type": "markdown",
   "id": "fantastic-checkout",
   "metadata": {},
   "source": [
    "# Traditional probabilistic programming-based implementation of variational inference"
   ]
  },
  {
   "cell_type": "markdown",
   "id": "ideal-penguin",
   "metadata": {
    "heading_collapsed": "true"
   },
   "source": [
    "## Inverse Gamma-Normal conjugate model from Turing.jl"
   ]
  },
  {
   "cell_type": "markdown",
   "id": "leading-footwear",
   "metadata": {},
   "source": [
    "This section is slightly edited for clarity from the [Turing.jl variational inference tutorial](https://github.com/TuringLang/TuringTutorials/blob/master/9_VariationalInference.ipynb)."
   ]
  },
  {
   "cell_type": "markdown",
   "id": "contrary-organization",
   "metadata": {
    "heading_collapsed": "true"
   },
   "source": [
    "### Import libraries"
   ]
  },
  {
   "cell_type": "code",
   "execution_count": 10,
   "id": "neither-bacteria",
   "metadata": {
    "execution": {
     "iopub.execute_input": "2021-03-23T00:13:00.778000Z",
     "iopub.status.busy": "2021-03-23T00:13:00.441000Z",
     "iopub.status.idle": "2021-03-23T00:13:00.825000Z",
     "shell.execute_reply": "2021-03-23T00:13:00.825000Z"
    }
   },
   "outputs": [],
   "source": [
    "# ~1m50s initial\n",
    "# ~1s subsequent\n",
    "using Random\n",
    "using Turing\n",
    "using Turing: Variational\n",
    "\n",
    "Random.seed!(42);"
   ]
  },
  {
   "cell_type": "markdown",
   "id": "accessible-transcription",
   "metadata": {
    "heading_collapsed": "true"
   },
   "source": [
    "### Define model"
   ]
  },
  {
   "cell_type": "markdown",
   "id": "beautiful-pierre",
   "metadata": {},
   "source": [
    "The Normal-(Inverse)Gamma conjugate model is defined by a generative process\n",
    "\n",
    "\\begin{align}\n",
    "    s &\\sim \\mathrm{InverseGamma}(2, 3) \\\\\n",
    "    m &\\sim \\mathcal{N}(0, s) \\\\\n",
    "    x_i &\\overset{\\text{i.i.d.}}{=} \\mathcal{N}(m, s), \\quad i = 1, \\dots, n\n",
    "\\end{align}"
   ]
  },
  {
   "cell_type": "markdown",
   "id": "theoretical-rugby",
   "metadata": {},
   "source": [
    "Generate synthetic data samples. This is the key capability of generative models. This ability derives from the fact that the joint distribution over observed and latent variables is being considered."
   ]
  },
  {
   "cell_type": "code",
   "execution_count": 11,
   "id": "nutritional-consensus",
   "metadata": {
    "execution": {
     "iopub.execute_input": "2021-03-23T01:02:37.423000Z",
     "iopub.status.busy": "2021-03-23T01:02:37.422000Z",
     "iopub.status.idle": "2021-03-23T01:02:37.458000Z",
     "shell.execute_reply": "2021-03-23T01:02:37.458000Z"
    }
   },
   "outputs": [],
   "source": [
    "x = randn(2000);"
   ]
  },
  {
   "cell_type": "code",
   "execution_count": 13,
   "id": "wrapped-tradition",
   "metadata": {
    "execution": {
     "iopub.execute_input": "2021-03-23T01:03:50.517000Z",
     "iopub.status.busy": "2021-03-23T01:03:50.516000Z",
     "iopub.status.idle": "2021-03-23T01:03:51.647000Z",
     "shell.execute_reply": "2021-03-23T01:03:51.647000Z"
    }
   },
   "outputs": [
    {
     "data": {
      "text/plain": [
       "5-element Array{Float64,1}:\n",
       " -0.5560268761463861\n",
       " -0.444383357109696\n",
       "  0.027155338009193845\n",
       " -0.29948409035891055\n",
       "  1.7778610980573246"
      ]
     },
     "execution_count": 13,
     "metadata": {},
     "output_type": "execute_result"
    }
   ],
   "source": [
    "x[1:5]"
   ]
  },
  {
   "cell_type": "markdown",
   "id": "incident-population",
   "metadata": {},
   "source": [
    "Define the model as an instance of the type `Turing.Model`."
   ]
  },
  {
   "cell_type": "code",
   "execution_count": 14,
   "id": "atmospheric-idaho",
   "metadata": {
    "execution": {
     "iopub.execute_input": "2021-03-23T01:05:30.271000Z",
     "iopub.status.busy": "2021-03-23T01:05:30.271000Z",
     "iopub.status.idle": "2021-03-23T01:05:34.453000Z",
     "shell.execute_reply": "2021-03-23T01:05:34.453000Z"
    }
   },
   "outputs": [
    {
     "data": {
      "text/plain": [
       "model (generic function with 1 method)"
      ]
     },
     "execution_count": 14,
     "metadata": {},
     "output_type": "execute_result"
    }
   ],
   "source": [
    "@model model(x) = begin\n",
    "    s ~ InverseGamma(2,3)\n",
    "    m ~ Normal(0.0, sqrt(s))\n",
    "    for i = 1:length(x)\n",
    "        x[i] ~ Normal(m, sqrt(s))\n",
    "    end\n",
    "end"
   ]
  },
  {
   "cell_type": "code",
   "execution_count": 28,
   "id": "acute-washington",
   "metadata": {
    "execution": {
     "iopub.execute_input": "2021-03-23T04:11:18.372000Z",
     "iopub.status.busy": "2021-03-23T04:11:18.372000Z",
     "iopub.status.idle": "2021-03-23T04:11:18.382000Z",
     "shell.execute_reply": "2021-03-23T04:11:18.382000Z"
    }
   },
   "outputs": [
    {
     "name": "stdout",
     "output_type": "stream",
     "text": [
      "```\n",
      "@model(expr[, warn = true])\n",
      "```\n",
      "\n",
      "Macro to specify a probabilistic model.\n",
      "\n",
      "If `warn` is `true`, a warning is displayed if internal variable names are used in the model definition.\n",
      "\n",
      "# Examples\n",
      "\n",
      "Model definition:\n",
      "\n",
      "```julia\n",
      "@model function model(x, y = 42)\n",
      "    ...\n",
      "end\n",
      "```\n",
      "\n",
      "To generate a `Model`, call `model(xvalue)` or `model(xvalue, yvalue)`.\n"
     ]
    }
   ],
   "source": [
    "print(@doc(@model))"
   ]
  },
  {
   "cell_type": "markdown",
   "id": "another-vinyl",
   "metadata": {},
   "source": [
    "Construct an instance of the model `m`."
   ]
  },
  {
   "cell_type": "code",
   "execution_count": 15,
   "id": "plastic-seafood",
   "metadata": {
    "execution": {
     "iopub.execute_input": "2021-03-23T01:06:00.273000Z",
     "iopub.status.busy": "2021-03-23T01:06:00.273000Z",
     "iopub.status.idle": "2021-03-23T01:06:00.387000Z",
     "shell.execute_reply": "2021-03-23T01:06:00.387000Z"
    }
   },
   "outputs": [],
   "source": [
    "m = model(x);"
   ]
  },
  {
   "cell_type": "code",
   "execution_count": 17,
   "id": "rising-forestry",
   "metadata": {
    "execution": {
     "iopub.execute_input": "2021-03-23T01:06:16.319000Z",
     "iopub.status.busy": "2021-03-23T01:06:16.319000Z",
     "iopub.status.idle": "2021-03-23T01:06:16.408000Z",
     "shell.execute_reply": "2021-03-23T01:06:16.408000Z"
    }
   },
   "outputs": [
    {
     "data": {
      "text/plain": [
       "DynamicPPL.Model{var\"#6#7\",(:x,),(),(),Tuple{Array{Float64,1}},Tuple{}}"
      ]
     },
     "execution_count": 17,
     "metadata": {},
     "output_type": "execute_result"
    }
   ],
   "source": [
    "typeof(m)"
   ]
  },
  {
   "cell_type": "code",
   "execution_count": 18,
   "id": "retained-family",
   "metadata": {
    "execution": {
     "iopub.execute_input": "2021-03-23T01:06:29.270000Z",
     "iopub.status.busy": "2021-03-23T01:06:29.270000Z",
     "iopub.status.idle": "2021-03-23T01:06:29.612000Z",
     "shell.execute_reply": "2021-03-23T01:06:29.612000Z"
    }
   },
   "outputs": [
    {
     "data": {
      "text/plain": [
       "DynamicPPL.Model{var\"#6#7\",(:x,),(),(),Tuple{Array{Float64,1}},Tuple{}}(:model, var\"#6#7\"(), (x = [-0.5560268761463861, -0.444383357109696, 0.027155338009193845, -0.29948409035891055, 1.7778610980573246, -1.14490153172882, -0.46860588216767457, 0.15614346264074028, -2.641991008076796, 1.0033099014594844  …  -1.429934217684174, 1.0569955382840672, 0.06237396220057982, -0.4018525193010452, 0.8502920979167766, -1.762950599025789, 1.3645385605509757, -1.152476312640822, -1.8572897801688275, 0.25976965508292527],), NamedTuple())"
      ]
     },
     "execution_count": 18,
     "metadata": {},
     "output_type": "execute_result"
    }
   ],
   "source": [
    "m"
   ]
  },
  {
   "cell_type": "markdown",
   "id": "statistical-anthony",
   "metadata": {},
   "source": [
    "See [DynamicPPL.jl/src/model.jl](https://github.com/TuringLang/DynamicPPL.jl/blob/master/src/model.jl) for the definition of the `DynamicPPL.Model` type."
   ]
  },
  {
   "cell_type": "markdown",
   "id": "connected-consolidation",
   "metadata": {
    "heading_collapsed": "true"
   },
   "source": [
    "### Sample from the model with MCMC/HMC"
   ]
  },
  {
   "cell_type": "markdown",
   "id": "premium-scratch",
   "metadata": {},
   "source": [
    "Here we use the [no U-turn sampler (NUTS)](http://chi-feng.github.io/mcmc-demo/app.html) to generate samples from the model."
   ]
  },
  {
   "cell_type": "code",
   "execution_count": 20,
   "id": "convinced-facial",
   "metadata": {
    "execution": {
     "iopub.execute_input": "2021-03-23T03:58:34.321000Z",
     "iopub.status.busy": "2021-03-23T03:58:34.321000Z",
     "iopub.status.idle": "2021-03-23T04:00:19.845000Z",
     "shell.execute_reply": "2021-03-23T04:00:19.845000Z"
    }
   },
   "outputs": [
    {
     "name": "stderr",
     "output_type": "stream",
     "text": [
      "┌ Info: Found initial step size\n",
      "│   ϵ = 0.05\n",
      "└ @ Turing.Inference /home/jovyan/.julia/packages/Turing/O1Pn0/src/inference/hmc.jl:195\n",
      "\u001b[32mSampling: 100%|█████████████████████████████████████████| Time: 0:01:45\u001b[39m\n"
     ]
    }
   ],
   "source": [
    "# ?2m12s\n",
    "samples_nuts = sample(m, NUTS(200, 0.65), 10000);"
   ]
  },
  {
   "cell_type": "code",
   "execution_count": 23,
   "id": "fatty-realtor",
   "metadata": {
    "execution": {
     "iopub.execute_input": "2021-03-23T04:01:10.219000Z",
     "iopub.status.busy": "2021-03-23T04:01:10.219000Z",
     "iopub.status.idle": "2021-03-23T04:01:10.563000Z",
     "shell.execute_reply": "2021-03-23T04:01:10.563000Z"
    }
   },
   "outputs": [
    {
     "data": {
      "text/plain": [
       "Chains MCMC chain (10000×14×1 Array{Float64,3}):\n",
       "\n",
       "Iterations        = 1:10000\n",
       "Thinning interval = 1\n",
       "Chains            = 1\n",
       "Samples per chain = 10000\n",
       "parameters        = m, s\n",
       "internals         = acceptance_rate, hamiltonian_energy, hamiltonian_energy_error, is_accept, log_density, lp, max_hamiltonian_energy_error, n_steps, nom_step_size, numerical_error, step_size, tree_depth\n",
       "\n",
       "Summary Statistics\n",
       " \u001b[1m parameters \u001b[0m \u001b[1m    mean \u001b[0m \u001b[1m     std \u001b[0m \u001b[1m naive_se \u001b[0m \u001b[1m    mcse \u001b[0m \u001b[1m       ess \u001b[0m \u001b[1m    rhat \u001b[0m\n",
       " \u001b[90m     Symbol \u001b[0m \u001b[90m Float64 \u001b[0m \u001b[90m Float64 \u001b[0m \u001b[90m  Float64 \u001b[0m \u001b[90m Float64 \u001b[0m \u001b[90m   Float64 \u001b[0m \u001b[90m Float64 \u001b[0m\n",
       "\n",
       "           m   -0.0277    0.0226     0.0002    0.0002   9465.7308    1.0002\n",
       "           s    1.0241    0.0324     0.0003    0.0003   9204.4318    0.9999\n",
       "\n",
       "Quantiles\n",
       " \u001b[1m parameters \u001b[0m \u001b[1m    2.5% \u001b[0m \u001b[1m   25.0% \u001b[0m \u001b[1m   50.0% \u001b[0m \u001b[1m   75.0% \u001b[0m \u001b[1m   97.5% \u001b[0m\n",
       " \u001b[90m     Symbol \u001b[0m \u001b[90m Float64 \u001b[0m \u001b[90m Float64 \u001b[0m \u001b[90m Float64 \u001b[0m \u001b[90m Float64 \u001b[0m \u001b[90m Float64 \u001b[0m\n",
       "\n",
       "           m   -0.0729   -0.0427   -0.0276   -0.0126    0.0163\n",
       "           s    0.9627    1.0018    1.0233    1.0456    1.0891\n"
      ]
     },
     "execution_count": 23,
     "metadata": {},
     "output_type": "execute_result"
    }
   ],
   "source": [
    "samples_nuts"
   ]
  },
  {
   "cell_type": "markdown",
   "id": "independent-spice",
   "metadata": {
    "heading_collapsed": "true"
   },
   "source": [
    "### Sample from the model with VI"
   ]
  },
  {
   "cell_type": "code",
   "execution_count": 24,
   "id": "intermediate-saint",
   "metadata": {
    "execution": {
     "iopub.execute_input": "2021-03-23T04:01:53.221000Z",
     "iopub.status.busy": "2021-03-23T04:01:53.221000Z",
     "iopub.status.idle": "2021-03-23T04:01:53.753000Z",
     "shell.execute_reply": "2021-03-23T04:01:53.753000Z"
    }
   },
   "outputs": [
    {
     "name": "stdout",
     "output_type": "stream",
     "text": [
      "```\n",
      "vi(model, alg::VariationalInference)\n",
      "vi(model, alg::VariationalInference, q::VariationalPosterior)\n",
      "vi(model, alg::VariationalInference, getq::Function, θ::AbstractArray)\n",
      "```\n",
      "\n",
      "Constructs the variational posterior from the `model` and performs the optimization following the configuration of the given `VariationalInference` instance.\n",
      "\n",
      "# Arguments\n",
      "\n",
      "  * `model`: `Turing.Model` or `Function` z ↦ log p(x, z) where `x` denotes the observations\n",
      "  * `alg`: the VI algorithm used\n",
      "  * `q`: a `VariationalPosterior` for which it is assumed a specialized implementation of the variational objective used exists.\n",
      "  * `getq`: function taking parameters `θ` as input and returns a `VariationalPosterior`\n",
      "  * `θ`: only required if `getq` is used, in which case it is the initial parameters for the variational posterior\n"
     ]
    }
   ],
   "source": [
    "print(@doc(Variational.vi))"
   ]
  },
  {
   "cell_type": "markdown",
   "id": "olympic-karaoke",
   "metadata": {},
   "source": [
    "`vi` takes \n",
    "1. the `Model` you want to approximate and\n",
    "1. a `VariationalInference` algorithm whose type specifies the method to use and whose fields specify the configuration of the method.\n",
    "\n",
    "As of 03/2021 the only implementation of `VariationalInference` available in `Turing.jl` is `ADVI`, which is applicable as long as the `Model` is differentiable with respect to the *variational parameters*.\n",
    "\n",
    "By default, when calling `vi(m, advi)`, Turing uses a *mean-field* approximation with a multivariate normal as the base distribution. [Mean-field](https://en.wikipedia.org/wiki/Mean-field_theory) as borrowed from mean-field theory in statistical physics refers here to the fact that it is assumed all the latent variables are *independent*. This is standard approach in ADVI (see [Automatic Differentiation Variational Inference (2016)](https://arxiv.org/abs/1603.00788)).\n",
    "\n",
    "In the mean-field approximation, the parameters of the variational distribution are the mean and variance for each latent variable."
   ]
  },
  {
   "cell_type": "code",
   "execution_count": 26,
   "id": "premium-tuition",
   "metadata": {
    "execution": {
     "iopub.execute_input": "2021-03-23T04:10:45.429000Z",
     "iopub.status.busy": "2021-03-23T04:10:45.429000Z",
     "iopub.status.idle": "2021-03-23T04:10:45.654000Z",
     "shell.execute_reply": "2021-03-23T04:10:45.654000Z"
    }
   },
   "outputs": [
    {
     "name": "stdout",
     "output_type": "stream",
     "text": [
      "```julia\n",
      "struct ADVI{AD} <: AdvancedVI.VariationalInference{AD}\n",
      "```\n",
      "\n",
      "Automatic Differentiation Variational Inference (ADVI) with automatic differentiation backend `AD`.\n",
      "\n",
      "# Fields\n",
      "\n",
      "  * `samples_per_step::Int64`\n",
      "\n",
      "    Number of samples used to estimate the ELBO in each optimization step.\n",
      "  * `max_iters::Int64`\n",
      "\n",
      "    Maximum number of gradient steps.\n"
     ]
    }
   ],
   "source": [
    "print(@doc(Variational.ADVI))"
   ]
  },
  {
   "cell_type": "code",
   "execution_count": 25,
   "id": "legislative-speed",
   "metadata": {
    "execution": {
     "iopub.execute_input": "2021-03-23T04:09:54.321000Z",
     "iopub.status.busy": "2021-03-23T04:09:54.320000Z",
     "iopub.status.idle": "2021-03-23T04:09:54.323000Z",
     "shell.execute_reply": "2021-03-23T04:09:54.323000Z"
    }
   },
   "outputs": [
    {
     "name": "stdout",
     "output_type": "stream",
     "text": [
      "```\n",
      "meanfield([rng, ]model::Model)\n",
      "```\n",
      "\n",
      "Creates a mean-field approximation with multivariate normal as underlying distribution.\n"
     ]
    }
   ],
   "source": [
    "print(@doc(Variational.meanfield))"
   ]
  },
  {
   "cell_type": "code",
   "execution_count": 29,
   "id": "greatest-captain",
   "metadata": {
    "execution": {
     "iopub.execute_input": "2021-03-23T04:20:23.469000Z",
     "iopub.status.busy": "2021-03-23T04:20:23.469000Z",
     "iopub.status.idle": "2021-03-23T04:21:01.591000Z",
     "shell.execute_reply": "2021-03-23T04:21:01.590000Z"
    }
   },
   "outputs": [
    {
     "name": "stderr",
     "output_type": "stream",
     "text": [
      "┌ Info: [ADVI] Should only be seen once: optimizer created for θ\n",
      "│   objectid(θ) = 7240786473657583843\n",
      "└ @ AdvancedVI /home/jovyan/.julia/packages/AdvancedVI/8ttTK/src/AdvancedVI.jl:199\n",
      "\u001b[32m[ADVI] Optimizing...100% Time: 0:00:35\u001b[39m\n"
     ]
    }
   ],
   "source": [
    "# ADVI\n",
    "advi = ADVI(10, 1000)\n",
    "q = vi(m, advi);"
   ]
  },
  {
   "cell_type": "markdown",
   "id": "adjusted-maintenance",
   "metadata": {},
   "source": [
    "For such a small problem Turing's `NUTS` sampler is nearly as efficient as ADVI.\n",
    "\n",
    "This is *not* the case in general. For very complex models `ADVI` produces very reasonable results in a much shorter time than `NUTS`.\n",
    "\n",
    "One significant advantage of using `vi` is that we can sample from the resulting approximate posterior `q` with ease. In fact, the result of the `vi` call is a `TransformedDistribution` from Bijectors.jl, and it implements the Distributions.jl interface for a `Distribution`."
   ]
  },
  {
   "cell_type": "markdown",
   "id": "arabic-gather",
   "metadata": {},
   "source": [
    "# Deep universal probabilistic programming and inference compilation"
   ]
  },
  {
   "cell_type": "markdown",
   "id": "diagnostic-penguin",
   "metadata": {},
   "source": [
    "# Examples"
   ]
  },
  {
   "cell_type": "code",
   "execution_count": null,
   "id": "norman-gates",
   "metadata": {},
   "outputs": [],
   "source": []
  }
 ],
 "metadata": {
  "jupytext": {
   "formats": "ipynb,md,jl:percent",
   "notebook_metadata_filter": "rise,toc-autonumbering,toc-showcode,toc-showmarkdowntxt"
  },
  "kernelspec": {
   "display_name": "Julia 1.6.2",
   "language": "julia",
   "name": "julia-1.6"
  },
  "language_info": {
   "file_extension": ".jl",
   "mimetype": "application/julia",
   "name": "julia",
   "version": "1.6.2"
  },
  "rise": {
   "scroll": true,
   "theme": "black"
  },
  "toc-autonumbering": true,
  "toc-showcode": false,
  "toc-showmarkdowntxt": false
 },
 "nbformat": 4,
 "nbformat_minor": 5
}
